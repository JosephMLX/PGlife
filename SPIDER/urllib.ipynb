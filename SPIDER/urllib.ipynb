{
 "cells": [
  {
   "cell_type": "code",
   "execution_count": null,
   "metadata": {},
   "outputs": [],
   "source": [
    "import urllib.request\n",
    "import urllib.parse\n",
    "import urllib.error\n",
    "import socket"
   ]
  },
  {
   "cell_type": "code",
   "execution_count": null,
   "metadata": {},
   "outputs": [],
   "source": [
    "response = urllib.request.urlopen('https://www.python.org')\n",
    "print(response.read().decode('utf-8'))"
   ]
  },
  {
   "cell_type": "code",
   "execution_count": null,
   "metadata": {},
   "outputs": [],
   "source": [
    "print(type(response))\n",
    "print(response.status)\n",
    "print(response.getheaders())\n",
    "print(response.getheader('Server'))"
   ]
  },
  {
   "cell_type": "code",
   "execution_count": null,
   "metadata": {},
   "outputs": [],
   "source": [
    "# data parameter\n",
    "data = bytes(urllib.parse.urlencode({'word': 'hello'}), encoding='utf-8')\n",
    "response = urllib.request.urlopen('http://httpbin.org/post', data=data)\n",
    "print(response.read())"
   ]
  },
  {
   "cell_type": "code",
   "execution_count": null,
   "metadata": {},
   "outputs": [],
   "source": [
    "# timeout parameter\n",
    "try:\n",
    "    response = urllib.request.urlopen('http://httpbin.org/get', timeout=0.1)\n",
    "except urllib.error.URLError as e:\n",
    "    if isinstance(e.reason, socket.timeout):\n",
    "        print('TIME OUT')"
   ]
  },
  {
   "cell_type": "code",
   "execution_count": null,
   "metadata": {},
   "outputs": [],
   "source": [
    "url = 'http://httpbin.org/post'\n",
    "headers = {\n",
    "    'User-Agent': 'Mozilla/4.0 (compatible; MSIE 5.5; Windows NT)',\n",
    "    'Host': 'httpbin.org'\n",
    "}\n",
    "dict = {\n",
    "    'name': 'mlx'\n",
    "}\n",
    "data = bytes(urllib.parse.urlencode(dict), encoding='utf-8')\n",
    "req = urllib.request.Request(url=url, data=data, headers=headers, method='POST')\n",
    "response = urllib.request.urlopen(req)\n",
    "print(response.read().decode('utf-8'))"
   ]
  },
  {
   "cell_type": "code",
   "execution_count": null,
   "metadata": {},
   "outputs": [],
   "source": [
    "# cookies\n",
    "import http.cookiejar\n",
    "cookie = http.cookiejar.CookieJar()\n",
    "handler = urllib.request.HTTPCookieProcessor(cookie)\n",
    "opener = urllib.request.build_opener(handler)\n",
    "response = opener.open('https://www.google.com')\n",
    "for item in cookie:\n",
    "    print(item.name+\"=\"+item.value)"
   ]
  },
  {
   "cell_type": "code",
   "execution_count": null,
   "metadata": {},
   "outputs": [],
   "source": [
    "# save cookies\n",
    "filename = 'cookies.txt'\n",
    "# cookie = http.cookiejar.MozillaCookieJar(filename)\n",
    "# LWP format\n",
    "cookie = http.cookiejar.LWPCookieJar(filename)\n",
    "handler = urllib.request.HTTPCookieProcessor(cookie)\n",
    "opener = urllib.request.build_opener(handler)\n",
    "response = opener.open('http://www.baidu.com')\n",
    "cookie.save(ignore_discard=True, ignore_expires=True)"
   ]
  },
  {
   "cell_type": "code",
   "execution_count": null,
   "metadata": {},
   "outputs": [],
   "source": [
    "# read from cookies\n",
    "cookie = http.cookiejar.LWPCookieJar()\n",
    "cookie.load(filename, ignore_discard=True, ignore_expires=True)\n",
    "handler = urllib.request.HTTPCookieProcessor(cookie)\n",
    "opener = urllib.request.build_opener(handler)\n",
    "response = opener.open('http://www.baidu.com')\n",
    "print(response.read().decode('utf-8'))"
   ]
  },
  {
   "cell_type": "code",
   "execution_count": null,
   "metadata": {},
   "outputs": [],
   "source": [
    "# URLError & HTTPError\n",
    "# URLError is parent class of HTTPError\n",
    "try:\n",
    "    response = urllib.request.urlopen('https://cuiqingcai.com/index.com')\n",
    "except urllib.error.HTTPError as e:\n",
    "    print(e.reason, e.code, e.headers, sep='\\n')\n",
    "except urllib.error.URLError as e:\n",
    "    print(e.reason)\n",
    "else:\n",
    "    print('Request Successfully')"
   ]
  },
  {
   "cell_type": "code",
   "execution_count": null,
   "metadata": {},
   "outputs": [],
   "source": [
    "# better timeout catch\n",
    "try:\n",
    "    response = urllib.request.urlopen('https://www.google.com', timeout=0.01)\n",
    "except urllib.error.URLError as e:\n",
    "    print(type(e.reason))\n",
    "    if isinstance(e.reason, socket.timeout):\n",
    "        print('TIME OUT')"
   ]
  },
  {
   "cell_type": "code",
   "execution_count": null,
   "metadata": {},
   "outputs": [],
   "source": [
    "# urlparse\n",
    "from urllib.parse import urlparse\n",
    "\n",
    "result = urlparse('https://www.google.com/index.html;user?id=5#comment')\n",
    "print(type(result), result)\n",
    "print(result.scheme, result[0])"
   ]
  },
  {
   "cell_type": "code",
   "execution_count": null,
   "metadata": {},
   "outputs": [],
   "source": [
    "# urlunparse\n",
    "from urllib.parse import urlunparse\n",
    "\n",
    "data = ['http', 'www.baidu.com', 'index.html', 'user', 'a=6', 'comment']    # len must be 6\n",
    "print(urlunparse(data))"
   ]
  },
  {
   "cell_type": "code",
   "execution_count": null,
   "metadata": {},
   "outputs": [],
   "source": [
    "#urlsplit (similar as urlparse, params in path)\n",
    "from urllib.parse import urlsplit\n",
    "\n",
    "result = urlsplit('https://www.google.com/index.html;user?id=5#comment')\n",
    "print(result)\n",
    "print(result.scheme, result[0])"
   ]
  },
  {
   "cell_type": "code",
   "execution_count": null,
   "metadata": {},
   "outputs": [],
   "source": [
    "# urlunsplit\n",
    "from urllib.parse import urlunsplit\n",
    "\n",
    "data = ['http', 'www.baidu.com', 'index.html', 'a=6', 'comment']    # len must be 5\n",
    "print(urlunsplit(data))"
   ]
  },
  {
   "cell_type": "code",
   "execution_count": null,
   "metadata": {},
   "outputs": [],
   "source": [
    "# urlencode, used to build GET params\n",
    "from urllib.parse import urlencode\n",
    "\n",
    "params = {\n",
    "    'name': 'mlx',\n",
    "    'age': '24'\n",
    "}\n",
    "base_url = 'https://www.google.com?'\n",
    "url = base_url + urlencode(params)\n",
    "print(url)"
   ]
  },
  {
   "cell_type": "code",
   "execution_count": null,
   "metadata": {},
   "outputs": [],
   "source": [
    "# parse_qs() & parse_qsl()\n",
    "from urllib.parse import parse_qs\n",
    "from urllib.parse import parse_qsl\n",
    "\n",
    "query = 'name=mlx&age=24'\n",
    "print(parse_qs(query))     # return a dict\n",
    "print(parse_qsl(query))    # return a list of tuple"
   ]
  },
  {
   "cell_type": "code",
   "execution_count": null,
   "metadata": {},
   "outputs": [],
   "source": [
    "# quote() & unquote(), for Chinese(or more languages) letters encode and decode\n",
    "from urllib.parse import quote\n",
    "from urllib.parse import unquote\n",
    "\n",
    "keyword = '我爱编程'\n",
    "url = 'https://www.google.com/search?q=' + quote(keyword)\n",
    "print(url)\n",
    "url = 'https://www.google.com/search?q=%E6%89%8D%E6%80%AA'\n",
    "print(unquote(url))"
   ]
  },
  {
   "cell_type": "code",
   "execution_count": null,
   "metadata": {},
   "outputs": [],
   "source": [
    "# robotpaser cannot fully work out...\n",
    "from urllib.robotparser import RobotFileParser\n",
    "\n",
    "rp = RobotFileParser()\n",
    "rp.set_url(\"http://www.google.com/robots.txt\")\n",
    "rp.read()\n",
    "print(rp.can_fetch('*', '/search/about'))\n",
    "print(rp.can_fetch('AdsBot-Google', '/search/about'))"
   ]
  }
 ],
 "metadata": {
  "kernelspec": {
   "display_name": "Python 3",
   "language": "python",
   "name": "python3"
  },
  "language_info": {
   "codemirror_mode": {
    "name": "ipython",
    "version": 3
   },
   "file_extension": ".py",
   "mimetype": "text/x-python",
   "name": "python",
   "nbconvert_exporter": "python",
   "pygments_lexer": "ipython3",
   "version": "3.7.3"
  }
 },
 "nbformat": 4,
 "nbformat_minor": 2
}
