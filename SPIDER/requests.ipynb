{
 "cells": [
  {
   "cell_type": "code",
   "execution_count": null,
   "metadata": {},
   "outputs": [],
   "source": [
    "import requests\n",
    "import re"
   ]
  },
  {
   "cell_type": "code",
   "execution_count": null,
   "metadata": {},
   "outputs": [],
   "source": [
    "r = requests.get('https://www.google.com')\n",
    "print(type(r))\n",
    "print(r.status_code)\n",
    "print(type(r.text))\n",
    "print(r.text)\n",
    "print(r.cookies)"
   ]
  },
  {
   "cell_type": "code",
   "execution_count": null,
   "metadata": {},
   "outputs": [],
   "source": [
    "# GET\n",
    "r = requests.get('http://httpbin.org/get')\n",
    "print(r.text)"
   ]
  },
  {
   "cell_type": "code",
   "execution_count": null,
   "metadata": {
    "scrolled": true
   },
   "outputs": [],
   "source": [
    "data = {\n",
    "    'name': 'mlx',\n",
    "    'age': '24'\n",
    "}\n",
    "r = requests.get('http://httpbin.org/get', params=data)    # construct url automatically\n",
    "print(r.text)\n",
    "print(type(r.text))\n",
    "print(r.json())\n",
    "print(type(r.json()))"
   ]
  },
  {
   "cell_type": "code",
   "execution_count": null,
   "metadata": {},
   "outputs": [],
   "source": [
    "headers = {\n",
    "    'User-Agent': 'Mozilla/5.0 (Macintosh; Intel Mac OS X 10_11_4) AppleWebKit/537/36(KHTML, like Gecko) Chrome/52.0.2743.116 Safari/537.36'\n",
    "}\n",
    "r = requests.get('https://www.zhihu.com/explore', headers=headers)    # request would be blocked without headers\n",
    "pattern = re.compile('explore-feed.*?question_link.*?>(.*?)</a>', re.S)\n",
    "titles = re.findall(pattern, r.text)\n",
    "print(titles)"
   ]
  },
  {
   "cell_type": "code",
   "execution_count": null,
   "metadata": {
    "scrolled": false
   },
   "outputs": [],
   "source": [
    "r = requests.get('https://github.com/favicon.ico')\n",
    "print(r.text)      # str\n",
    "print(r.content)   # bytes\n",
    "with open('favicon.ico', 'wb') as f:\n",
    "    f.write(r.content)"
   ]
  },
  {
   "cell_type": "code",
   "execution_count": null,
   "metadata": {
    "scrolled": false
   },
   "outputs": [],
   "source": [
    "r = requests.get('https://www.zhihu.com/explore', headers=headers)\n",
    "print(r.text)"
   ]
  },
  {
   "cell_type": "code",
   "execution_count": null,
   "metadata": {},
   "outputs": [],
   "source": [
    "# POST\n",
    "data = {\n",
    "    'name': 'mlx',\n",
    "    'age': '24'\n",
    "}\n",
    "r = requests.post('http://httpbin.org/post', data=data)    # construct url automatically\n",
    "print(r.text)\n",
    "print(type(r.text))\n",
    "print(r.json())\n",
    "print(type(r.json()))"
   ]
  },
  {
   "cell_type": "code",
   "execution_count": null,
   "metadata": {},
   "outputs": [],
   "source": [
    "r = requests.get('https://www.google.com')\n",
    "print(type(r.status_code), r.status_code)\n",
    "print(type(r.headers), r.headers)\n",
    "print(type(r.cookies), r.cookies)\n",
    "print(type(r.url), r.url)\n",
    "print(type(r.history), r.history)"
   ]
  },
  {
   "cell_type": "code",
   "execution_count": null,
   "metadata": {},
   "outputs": [],
   "source": [
    "# upload files\n",
    "files = {\n",
    "    'file': open('try.py', 'rb')\n",
    "}\n",
    "r = requests.post('http://httpbin.org/post', files=files)\n",
    "print(r.text)"
   ]
  },
  {
   "cell_type": "code",
   "execution_count": null,
   "metadata": {
    "scrolled": false
   },
   "outputs": [],
   "source": [
    "headers = {\n",
    "    'Cookie': 'getfrom network-headers-cookie',\n",
    "    'Host': 'www.zhihu.com',\n",
    "    'User-Agent': 'Mozilla/5.0 (Macintosh; Intel Mac OS X 10_11_4) AppleWebKit/537/36(KHTML, like Gecko) Chrome/52.0.2743.116 Safari/537.36'\n",
    "}\n",
    "r = requests.get('https://www.zhihu,com', headers=headers)\n",
    "print(r.text)"
   ]
  },
  {
   "cell_type": "code",
   "execution_count": null,
   "metadata": {},
   "outputs": [],
   "source": [
    "# set each key, value in cookie\n",
    "# only this works, don't know why\n",
    "cookies = '_zap=2a852485-86b9-4254-8562-05ba9540135b; d_c0=\"AIBnW2Z0Qg6PTgPXWHyckrS9AKAr6_YjrXs=|1537757867\"; __gads=ID=914fab2270c53d56:T=1541397691:S=ALNI_MYkC2ZgtShPPupRKxbNh-jdwBxxDw; _ga=GA1.2.1924712591.1546941371; tst=r; capsion_ticket=\"2|1:0|10:1557125057|14:capsion_ticket|44:NzBmYmJiZGI5YTkyNGZlNjgyNzE2YTNhOGJiZjE2ODQ=|4a244781c7f37cc5ddc402baf3e7b679983401aed6e7212a76d4646a13410ce1\"; z_c0=\"2|1:0|10:1557125060|4:z_c0|92:Mi4xRnI0NEFBQUFBQUFBZ0dkYlpuUkNEaVlBQUFCZ0FsVk54Q1c5WFFBMTc3RnNmbjJCTTNadE1pU1V3VkdWb3ZvNHpR|187692c76688fbc8866778965eaa27ef3207d94cd723067ecfc9127cb71a275c\"; __utmz=51854390.1557125925.1.1.utmcsr=zhihu.com|utmccn=(referral)|utmcmd=referral|utmcct=/people/meng-ling-xu-1/collections; __utmv=51854390.100-1|2=registration_date=20140219=1^3=entry_date=20140219=1; q_c1=9cf249952cbe44458faa1f3dac37900d|1557488502000|1537757868000; _xsrf=8659bf41-bdf1-4b55-a84b-c57b61c8a75d; __utma=51854390.1924712591.1546941371.1557125925.1558681436.2; __utmc=51854390; tgw_l7_route=060f637cd101836814f6c53316f73463'\n",
    "jar = requests.cookies.RequestsCookieJar()\n",
    "headers = {\n",
    "    'Host': 'www.zhihu.com',\n",
    "    'User-Agent': 'Mozilla/5.0 (Macintosh; Intel Mac OS X 10_11_4) AppleWebKit/537/36(KHTML, like Gecko) Chrome/52.0.2743.116 Safari/537.36'\n",
    "}\n",
    "for cookie in cookies.split(';'):\n",
    "    key, value = cookie.split('=', 1)\n",
    "    jar.set(key, value)\n",
    "r = requests.get('https://www.zhihu.com', cookies=jar, headers=headers)\n",
    "print(r.text)"
   ]
  },
  {
   "cell_type": "code",
   "execution_count": null,
   "metadata": {},
   "outputs": [],
   "source": [
    "# session\n",
    "requests.get('http://httpbin.org/cookies/set/number/123456')\n",
    "r = requests.get('http://httpbin.org/cookies')\n",
    "print(r.text)   # has no cookie\n",
    "s = requests.Session()\n",
    "s.get('http://httpbin.org/cookies/set/number/123456')\n",
    "r = s.get('http://httpbin.org/cookies')\n",
    "print(r.text)   # has cookie"
   ]
  },
  {
   "cell_type": "code",
   "execution_count": null,
   "metadata": {},
   "outputs": [],
   "source": [
    "response = requests.get('https://modrisco.github.io', verify=False)\n",
    "print(response.status_code)"
   ]
  },
  {
   "cell_type": "code",
   "execution_count": null,
   "metadata": {},
   "outputs": [],
   "source": [
    "# ignore warnings (urllib3.disable_warnings())\n",
    "from requests.packages import urllib3\n",
    "\n",
    "urllib3.disable_warnings()\n",
    "response = requests.get('https://modrisco.github.io', verify=False)\n",
    "print(response.status_code)"
   ]
  },
  {
   "cell_type": "code",
   "execution_count": null,
   "metadata": {},
   "outputs": [],
   "source": [
    "# ignore warnings (logging)\n",
    "import logging\n",
    "\n",
    "logging.captureWarnings(True)\n",
    "response = requests.get('https://modrisco.github.io', verify=False)\n",
    "print(response.status_code)"
   ]
  },
  {
   "cell_type": "code",
   "execution_count": null,
   "metadata": {},
   "outputs": [],
   "source": [
    "r = requests.get('https://www.google.com', timeout=(5,30))   # timeout=(connect, read)\n",
    "print(r.status_code)"
   ]
  },
  {
   "cell_type": "code",
   "execution_count": null,
   "metadata": {},
   "outputs": [],
   "source": [
    "# prepare request\n",
    "url = 'http://httpbin.org/post'\n",
    "data = {\n",
    "    'name': 'mlx'\n",
    "}\n",
    "headers = {\n",
    "    'User-Agent': 'Mozilla/5.0 (Macintosh; Intel Mac OS X 10_11_4) AppleWebKit/537/36(KHTML, like Gecko) Chrome/52.0.2743.116 Safari/537.36'\n",
    "}\n",
    "s = requests.Session()\n",
    "req = requests.Request('POST', url, data=data, headers=headers)\n",
    "prepped = s.prepare_request(req)\n",
    "r = s.send(prepped)\n",
    "print(r.text)"
   ]
  }
 ],
 "metadata": {
  "kernelspec": {
   "display_name": "Python 3",
   "language": "python",
   "name": "python3"
  },
  "language_info": {
   "codemirror_mode": {
    "name": "ipython",
    "version": 3
   },
   "file_extension": ".py",
   "mimetype": "text/x-python",
   "name": "python",
   "nbconvert_exporter": "python",
   "pygments_lexer": "ipython3",
   "version": "3.7.3"
  }
 },
 "nbformat": 4,
 "nbformat_minor": 2
}
