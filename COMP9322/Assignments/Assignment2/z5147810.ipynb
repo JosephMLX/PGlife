{
 "cells": [
  {
   "cell_type": "code",
   "execution_count": 96,
   "metadata": {},
   "outputs": [],
   "source": [
    "import rdflib"
   ]
  },
  {
   "cell_type": "code",
   "execution_count": 97,
   "metadata": {},
   "outputs": [],
   "source": [
    "from rdflib import Namespace"
   ]
  },
  {
   "cell_type": "code",
   "execution_count": 98,
   "metadata": {},
   "outputs": [],
   "source": [
    "owlNS = Namespace(\"http://www.w3.org/2002/07/owl#\")\n",
    "owlClass = owlNS[\"Class\"]\n",
    "owlObjectProperty = owlNS[\"ObjectProperty\"]\n",
    "owlDatatypeProperty = owlNS[\"DatatypeProperty\"]\n",
    "rdfNS = Namespace(\"http://www.w3.org/1999/02/22-rdf-syntax-ns#\")\n",
    "rdfProperty = rdfNS[\"Property\"]\n",
    "rdfType = rdfNS[\"type\"]\n",
    "rdfsNS = Namespace(\"http://www.w3.org/2000/01/rdf-schema#\")\n",
    "rdfsSubClassOf = rdfsNS[\"subClassOf\"]\n",
    "rdfsDomain = rdfsNS[\"domain\"]\n",
    "rdfsRange = rdfsNS[\"range\"]\n",
    "xsdNS = Namespace(\"http://www.w3.org/2001/XMLSchema#\")\n",
    "xsdString = xsdNS[\"string\"]\n",
    "xsdInt = xsdNS[\"int\"]\n",
    "xsdFloat = xsdNS[\"float\"]\n",
    "xsdTime = xsdNS[\"dateTime\"]"
   ]
  },
  {
   "cell_type": "code",
   "execution_count": 99,
   "metadata": {},
   "outputs": [],
   "source": [
    "coffeeNS = Namespace('http://www.scarbucks.example.com.au/v2/coffee#')"
   ]
  },
  {
   "cell_type": "code",
   "execution_count": 100,
   "metadata": {},
   "outputs": [],
   "source": [
    "objectClass = coffeeNS['Object']\n",
    "# person\n",
    "personClass = coffeeNS['Customer']\n",
    "employeeClass = coffeeNS['Employee']\n",
    "baristaClass = coffeeNS['Barista']\n",
    "cashierClass = coffeeNS['Cashier']\n",
    "managerClass = coffeeNS['Manager']\n",
    "# things\n",
    "orderClass = coffeeNS['Order']\n",
    "coffeeClass = coffeeNS['Coffee']\n",
    "paymentClass = coffeeNS['Payment']"
   ]
  },
  {
   "cell_type": "code",
   "execution_count": 101,
   "metadata": {},
   "outputs": [],
   "source": [
    "# person\n",
    "customerName = coffeeNS['cuname']\n",
    "baristaName = coffeeNS['bname']\n",
    "managerName = coffeeNS['mname']\n",
    "cashierName = coffeeNS['caname']\n",
    "# coffee\n",
    "typeIs = coffeeNS['type']\n",
    "priceAt = coffeeNS['price_at']\n",
    "# order\n",
    "owned = coffeeNS['owned_by']\n",
    "orderId = coffeeNS['order_id']\n",
    "orderedAt = coffeeNS['ordered_at']\n",
    "orderedFor = coffeeNS['ordered_for']\n",
    "# payment\n",
    "paidAt = coffeeNS['paid_at']\n",
    "paymentId = coffeeNS['payment_id']\n",
    "paidFor = coffeeNS['paid_for']\n",
    "# relationship\n",
    "servedBy = coffeeNS['serverd_by']\n",
    "dealWith = coffeeNS['deal_with']\n",
    "cashierReportTo = coffeeNS['cashier_report_to']\n",
    "baristaReportTo = coffeeNS['barista_report_to']"
   ]
  },
  {
   "cell_type": "code",
   "execution_count": 102,
   "metadata": {},
   "outputs": [],
   "source": [
    "classTriples = [\n",
    "# class declarations:\n",
    "(coffeeNS['Object'], rdfType, owlClass),\n",
    "(coffeeNS['Customer'], rdfType, owlClass),\n",
    "(coffeeNS['Employee'], rdfType, owlClass),\n",
    "(coffeeNS['Barista'], rdfType, owlClass),\n",
    "(coffeeNS['Cashier'], rdfType, owlClass),\n",
    "(coffeeNS['Manager'], rdfType, owlClass),\n",
    "(coffeeNS['Order'], rdfType, owlClass),\n",
    "(coffeeNS['Coffee'], rdfType, owlClass),\n",
    "(coffeeNS['Payment'], rdfType, owlClass),\n",
    "]"
   ]
  },
  {
   "cell_type": "code",
   "execution_count": 103,
   "metadata": {},
   "outputs": [],
   "source": [
    "classHeirarchyTriples = [\n",
    "# class heirarchy:\n",
    "(coffeeNS['Customer'], rdfsSubClassOf, coffeeNS['Object']),\n",
    "(coffeeNS['Employee'], rdfsSubClassOf, coffeeNS['Object']),\n",
    "(coffeeNS['Barista'], rdfsSubClassOf, coffeeNS['Employee']),\n",
    "(coffeeNS['Cashier'], rdfsSubClassOf, coffeeNS['Employee']),\n",
    "(coffeeNS['Manager'], rdfsSubClassOf, coffeeNS['Employee']),\n",
    "(coffeeNS['Order'], rdfsSubClassOf, coffeeNS['Object']),\n",
    "(coffeeNS['Coffee'], rdfsSubClassOf, coffeeNS['Object']),\n",
    "(coffeeNS['Payment'], rdfsSubClassOf, coffeeNS['Object']),\n",
    "]"
   ]
  },
  {
   "cell_type": "code",
   "execution_count": 104,
   "metadata": {},
   "outputs": [],
   "source": [
    "propertyTriples = [\n",
    "# name property:\n",
    "(coffeeNS['cuname'], rdfType, owlDatatypeProperty),\n",
    "(coffeeNS['cuname'], rdfsDomain, coffeeNS['Customer']),\n",
    "(coffeeNS['cuname'], rdfsRange, xsdString),\n",
    "(coffeeNS['bname'], rdfType, owlDatatypeProperty),\n",
    "(coffeeNS['bname'], rdfsDomain, coffeeNS['Barista']),\n",
    "(coffeeNS['bname'], rdfsRange, xsdString),\n",
    "(coffeeNS['mname'], rdfType, owlDatatypeProperty),\n",
    "(coffeeNS['mname'], rdfsDomain, coffeeNS['Manager']),\n",
    "(coffeeNS['mname'], rdfsRange, xsdString),\n",
    "(coffeeNS['caname'], rdfType, owlDatatypeProperty),\n",
    "(coffeeNS['caname'], rdfsDomain, coffeeNS['Cashier']),\n",
    "(coffeeNS['caname'], rdfsRange, xsdString),\n",
    "# type property:\n",
    "(coffeeNS['type'], rdfType, owlDatatypeProperty),\n",
    "(coffeeNS['type'], rdfsDomain, coffeeNS['Coffee']),\n",
    "(coffeeNS['type'], rdfsRange, xsdString),\n",
    "# priceAt property:\n",
    "(coffeeNS['price_at'], rdfType, owlDatatypeProperty),\n",
    "(coffeeNS['price_at'], rdfsDomain, coffeeNS['Coffee']),\n",
    "(coffeeNS['price_at'], rdfsRange, xsdFloat),\n",
    "# orderedAt property\n",
    "(coffeeNS['ordered_at'], rdfType, owlDatatypeProperty),\n",
    "(coffeeNS['ordered_at'], rdfsDomain, coffeeNS['Order']),\n",
    "(coffeeNS['ordered_at'], rdfsRange, xsdTime),\n",
    "# orderedFor property\n",
    "(coffeeNS['ordered_for'], rdfType, owlDatatypeProperty),\n",
    "(coffeeNS['ordered_for'], rdfsDomain, coffeeNS['Order']),\n",
    "(coffeeNS['ordered_for'], rdfsRange, xsdString),\n",
    "# orderId property\n",
    "(coffeeNS['order_id'], rdfType, owlDatatypeProperty),\n",
    "(coffeeNS['order_id'], rdfsDomain, coffeeNS['Order']),\n",
    "(coffeeNS['order_id'], rdfsRange, xsdString),\n",
    "# paymentId property\n",
    "(coffeeNS['payment_id'], rdfType, owlDatatypeProperty),\n",
    "(coffeeNS['payment_id'], rdfsDomain, coffeeNS['Payment']),\n",
    "(coffeeNS['payment_id'], rdfsRange, xsdString),\n",
    "# paidAt property\n",
    "(coffeeNS['paid_at'], rdfType, owlDatatypeProperty),\n",
    "(coffeeNS['paid_at'], rdfsDomain, coffeeNS['Payment']),\n",
    "(coffeeNS['paid_at'], rdfsRange, xsdTime),\n",
    "# servedBy property:\n",
    "(coffeeNS['servered_by'], rdfType, owlObjectProperty),\n",
    "(coffeeNS['servered_by'], rdfsDomain, coffeeNS['Order']),\n",
    "(coffeeNS['servered_by'], rdfsRange, coffeeNS['Barista']),\n",
    "# servedBy property:\n",
    "(coffeeNS['deal_with'], rdfType, owlObjectProperty),\n",
    "(coffeeNS['deal_with'], rdfsDomain, coffeeNS['Payment']),\n",
    "(coffeeNS['deal_with'], rdfsRange, coffeeNS['Cashier']),\n",
    "# cashier report to property:\n",
    "(coffeeNS['cashier_report_to'], rdfType, owlObjectProperty),\n",
    "(coffeeNS['cashier_report_to'], rdfsDomain, coffeeNS['Cashier']),\n",
    "(coffeeNS['cashier_report_to'], rdfsRange, coffeeNS['Manager']),\n",
    "# barista report to property:\n",
    "(coffeeNS['barista_report_to'], rdfType, owlObjectProperty),\n",
    "(coffeeNS['barista_report_to'], rdfsDomain, coffeeNS['Barista']),\n",
    "(coffeeNS['barista_report_to'], rdfsRange, coffeeNS['Manager']),\n",
    "# paidFor property\n",
    "(coffeeNS['paid_for'], rdfType, owlDatatypeProperty),\n",
    "(coffeeNS['paid_for'], rdfsDomain, coffeeNS['Payment']),\n",
    "(coffeeNS['paid_for'], rdfsRange, coffeeNS['Order']),\n",
    "# owned property:\n",
    "(coffeeNS['owned_by'], rdfType, owlObjectProperty),\n",
    "(coffeeNS['owned_by'], rdfsDomain, coffeeNS['Order']),\n",
    "(coffeeNS['owned_by'], rdfsRange, coffeeNS['Customer']),\n",
    "]"
   ]
  },
  {
   "cell_type": "code",
   "execution_count": 105,
   "metadata": {},
   "outputs": [],
   "source": [
    "from rdflib import ConjunctiveGraph\n",
    "graph = ConjunctiveGraph()\n",
    "for triple in classTriples: \n",
    "    graph.add(triple)\n",
    "for triple in classHeirarchyTriples: \n",
    "    graph.add(triple)\n",
    "for triple in propertyTriples: \n",
    "    graph.add(triple)"
   ]
  },
  {
   "cell_type": "code",
   "execution_count": 106,
   "metadata": {},
   "outputs": [
    {
     "data": {
      "text/plain": [
       "[rdflib.term.URIRef('http://www.scarbucks.example.com.au/v2/coffee#Cashier'),\n",
       " rdflib.term.URIRef('http://www.scarbucks.example.com.au/v2/coffee#Manager'),\n",
       " rdflib.term.URIRef('http://www.scarbucks.example.com.au/v2/coffee#Object'),\n",
       " rdflib.term.URIRef('http://www.scarbucks.example.com.au/v2/coffee#Payment'),\n",
       " rdflib.term.URIRef('http://www.scarbucks.example.com.au/v2/coffee#Coffee'),\n",
       " rdflib.term.URIRef('http://www.scarbucks.example.com.au/v2/coffee#Barista'),\n",
       " rdflib.term.URIRef('http://www.scarbucks.example.com.au/v2/coffee#Customer'),\n",
       " rdflib.term.URIRef('http://www.scarbucks.example.com.au/v2/coffee#Order'),\n",
       " rdflib.term.URIRef('http://www.scarbucks.example.com.au/v2/coffee#Employee')]"
      ]
     },
     "execution_count": 106,
     "metadata": {},
     "output_type": "execute_result"
    }
   ],
   "source": [
    "list(graph.subjects(rdfType, owlClass))"
   ]
  },
  {
   "cell_type": "code",
   "execution_count": 107,
   "metadata": {},
   "outputs": [
    {
     "data": {
      "text/plain": [
       "[rdflib.term.URIRef('http://www.scarbucks.example.com.au/v2/coffee#owned_by'),\n",
       " rdflib.term.URIRef('http://www.scarbucks.example.com.au/v2/coffee#barista_report_to'),\n",
       " rdflib.term.URIRef('http://www.scarbucks.example.com.au/v2/coffee#deal_with'),\n",
       " rdflib.term.URIRef('http://www.scarbucks.example.com.au/v2/coffee#servered_by'),\n",
       " rdflib.term.URIRef('http://www.scarbucks.example.com.au/v2/coffee#cashier_report_to')]"
      ]
     },
     "execution_count": 107,
     "metadata": {},
     "output_type": "execute_result"
    }
   ],
   "source": [
    "list(graph.subjects(rdfType, owlObjectProperty))"
   ]
  },
  {
   "cell_type": "code",
   "execution_count": 108,
   "metadata": {},
   "outputs": [],
   "source": [
    "def isSubClassOf(subClass, superClass, graph):\n",
    "    if subClass == superClass: return True\n",
    "    for parentClass in graph.objects(subClass, rdfsSubClassOf):\n",
    "        if isSubClassOf(parentClass, superClass, graph):\n",
    "            return True\n",
    "        else: \n",
    "            return False"
   ]
  },
  {
   "cell_type": "code",
   "execution_count": 109,
   "metadata": {},
   "outputs": [],
   "source": [
    "from rdflib import Literal\n",
    "filmTriples = [\n",
    "# order_relationship:\n",
    "(coffeeNS['20190720090000'], rdfType, coffeeNS['Order']),\n",
    "(coffeeNS['20190720090000'], coffeeNS['owned_by'], coffeeNS['jim_hay']),\n",
    "(coffeeNS['20190720090000'], coffeeNS['servered_by'], coffeeNS['steve_roges']),\n",
    "(coffeeNS['20190720190000'], rdfType, coffeeNS['Order']),\n",
    "(coffeeNS['20190720190000'], coffeeNS['owned_by'], coffeeNS['ed_sheeran']),\n",
    "(coffeeNS['20190720190000'], coffeeNS['servered_by'], coffeeNS['steve_roges']),\n",
    "(coffeeNS['20190721190000'], rdfType, coffeeNS['Order']),\n",
    "(coffeeNS['20190721190000'], coffeeNS['owned_by'], coffeeNS['jim_hay']),\n",
    "# payment_relationship\n",
    "(coffeeNS['20190720091000'], coffeeNS['deal_with'], coffeeNS['black_widow']),\n",
    "(coffeeNS['20190720091000'], rdfType, coffeeNS['Payment']),\n",
    "# order_at:\n",
    "(coffeeNS['20190720090000'], rdfType, coffeeNS['Order']),\n",
    "(coffeeNS['20190720090000'], coffeeNS['ordered_at'],Literal(\"2019-07-20T09:00:00\", datatype=xsdTime)),\n",
    "(coffeeNS['20190720190000'], rdfType, coffeeNS['Order']),\n",
    "(coffeeNS['20190720190000'], coffeeNS['ordered_at'],Literal(\"2019-07-20T19:00:00\", datatype=xsdTime)),\n",
    "(coffeeNS['20190721190000'], rdfType, coffeeNS['Order']),\n",
    "(coffeeNS['20190721190000'], coffeeNS['ordered_at'],Literal(\"2019-07-21T19:00:00\", datatype=xsdTime)),\n",
    "# order_Id:\n",
    "(coffeeNS['20190720090000'], coffeeNS['order_id'],Literal(\"20190720090000\", datatype=xsdString)),\n",
    "(coffeeNS['20190720190000'], coffeeNS['order_id'],Literal(\"20190720190000\", datatype=xsdString)),\n",
    "(coffeeNS['20190721190000'], coffeeNS['order_id'],Literal(\"20190721090000\", datatype=xsdString)),\n",
    "# payment_Id:\n",
    "(coffeeNS['20190720091000'], coffeeNS['payment_id'],Literal(\"20190720091000\", datatype=xsdString)),\n",
    "(coffeeNS['20190720191000'], coffeeNS['payment_id'],Literal(\"20190720191000\", datatype=xsdString)),\n",
    "(coffeeNS['20190721191000'], coffeeNS['payment_id'],Literal(\"20190721091000\", datatype=xsdString)),\n",
    "# ordered_coffee:\n",
    "(coffeeNS['20190720090000'], coffeeNS['ordered_for'],coffeeNS['Latte']),\n",
    "(coffeeNS['20190720190000'], coffeeNS['ordered_for'],coffeeNS['Espresso']),\n",
    "(coffeeNS['20190721190000'], coffeeNS['ordered_for'],coffeeNS['Latte']),\n",
    "# price:    \n",
    "(coffeeNS['latte'], rdfType, coffeeNS['Coffee']),\n",
    "(coffeeNS['latte'], coffeeNS['price_at'],Literal(\"9.8\", datatype=xsdFloat)),\n",
    "(coffeeNS['espresso'], rdfType, coffeeNS['Coffee']),\n",
    "(coffeeNS['espresso'], coffeeNS['price_at'],Literal(\"8.5\", datatype=xsdFloat)),\n",
    "(coffeeNS['cappuccino'], rdfType, coffeeNS['Coffee']),\n",
    "(coffeeNS['cappuccino'], coffeeNS['price_at'],Literal(\"7.2\", datatype=xsdFloat)),\n",
    "# coffee_types:\n",
    "(coffeeNS['latte'], rdfType, coffeeNS['Coffee']),\n",
    "(coffeeNS['latte'], coffeeNS['type'],Literal(\"Latte\", datatype=xsdString)),\n",
    "(coffeeNS['espresso'], rdfType, coffeeNS['Coffee']),\n",
    "(coffeeNS['espresso'], coffeeNS['type'],Literal(\"Espresso\", datatype=xsdString)),\n",
    "(coffeeNS['cappuccino'], rdfType, coffeeNS['Coffee']),\n",
    "(coffeeNS['cappuccino'], coffeeNS['type'],Literal(\"Cappuccino\", datatype=xsdString)),\n",
    "# person_name:\n",
    "(coffeeNS['jim_hay'], rdfType, coffeeNS['Customer']),\n",
    "(coffeeNS['jim_hay'], coffeeNS['cuname'],Literal(\"Jim Hay\", datatype=xsdString)),\n",
    "(coffeeNS['ed_sheeran'], rdfType, coffeeNS['Customer']),\n",
    "(coffeeNS['ed_sheeran'], coffeeNS['cuname'],Literal(\"Ed Sheeran\", datatype=xsdString)),\n",
    "(coffeeNS['steve_roges'], rdfType, coffeeNS['Barista']),\n",
    "(coffeeNS['steve_roges'], coffeeNS['bname'],Literal(\"Steve Roges\", datatype=xsdString)),\n",
    "(coffeeNS['tony_stark'], rdfType, coffeeNS['Manager']),\n",
    "(coffeeNS['tony_stark'], coffeeNS['mname'],Literal(\"Tony Stark\", datatype=xsdString)),\n",
    "(coffeeNS['black_widow'], rdfType, coffeeNS['Cashier']),\n",
    "(coffeeNS['black_widow'], coffeeNS['caname'],Literal(\"Natasha\", datatype=xsdString)),\n",
    "# employee relationship\n",
    "(coffeeNS['steve_roges'], coffeeNS['barista_report_to'],coffeeNS['tony_stark']),\n",
    "(coffeeNS['black_widow'], coffeeNS['cashier_report_to'],coffeeNS['tony_stark']),\n",
    "]\n",
    "for triple in filmTriples: graph.add(triple)"
   ]
  },
  {
   "cell_type": "code",
   "execution_count": 110,
   "metadata": {},
   "outputs": [],
   "source": [
    "def findInstances(queryClass, graph, instances=None):\n",
    "    if instances is None: instances = set()\n",
    "    for instance in graph.subjects(rdfType, queryClass): instances.add(instance)\n",
    "    for subClass in graph.subjects(rdfsSubClassOf, queryClass):\n",
    "        findInstances(subClass, graph, instances)\n",
    "    return instances"
   ]
  },
  {
   "cell_type": "code",
   "execution_count": 111,
   "metadata": {},
   "outputs": [],
   "source": [
    "graph.serialize(destination='output.ttl', format='turtle')"
   ]
  },
  {
   "cell_type": "code",
   "execution_count": 118,
   "metadata": {},
   "outputs": [
    {
     "name": "stdout",
     "output_type": "stream",
     "text": [
      "(rdflib.term.URIRef('http://www.scarbucks.example.com.au/v2/coffee#20190720090000'),)\n"
     ]
    }
   ],
   "source": [
    "q1 = graph.query(\n",
    "    \"\"\"\n",
    "    PREFIX : <http://www.scarbucks.example.com.au/v2/coffee#>\n",
    "    PREFIX rdf: <http://www.w3.org/1999/02/22-rdf-syntax-ns#>\n",
    "    PREFIX owl: <http://www.w3.org/2002/07/owl#>\n",
    "    PREFIX rdfs: <http://www.w3.org/2000/01/rdf-schema#>\n",
    "    PREFIX xsd: <http://www.w3.org/2001/XMLSchema#>\n",
    "    SELECT ?od WHERE { \n",
    "        ?od rdf:type :Order.\n",
    "        ?od :ordered_at ?ot.\n",
    "        FILTER (?ot < \"2019-07-20T12:00:00\"^^xsd:dateTime)\n",
    "    }\n",
    "    \"\"\")\n",
    "for row in q1:\n",
    "    print(row)"
   ]
  },
  {
   "cell_type": "code",
   "execution_count": 124,
   "metadata": {},
   "outputs": [
    {
     "name": "stdout",
     "output_type": "stream",
     "text": [
      "(rdflib.term.URIRef('http://www.scarbucks.example.com.au/v2/coffee#ed_sheeran'),)\n",
      "(rdflib.term.URIRef('http://www.scarbucks.example.com.au/v2/coffee#jim_hay'),)\n"
     ]
    }
   ],
   "source": [
    "q2 = graph.query(\n",
    "    \"\"\"\n",
    "    PREFIX : <http://www.scarbucks.example.com.au/v2/coffee#>\n",
    "    PREFIX rdf: <http://www.w3.org/1999/02/22-rdf-syntax-ns#>\n",
    "    PREFIX owl: <http://www.w3.org/2002/07/owl#>\n",
    "    PREFIX rdfs: <http://www.w3.org/2000/01/rdf-schema#>\n",
    "    PREFIX xsd: <http://www.w3.org/2001/XMLSchema#>\n",
    "    SELECT ?cust WHERE { \n",
    "    ?od rdf:type :Order.\n",
    "    ?od :ordered_at ?ot.\n",
    "    ?od :owned_by ?cust.\n",
    "    FILTER (?ot > \"2019-07-20T00:00:00\"^^xsd:dateTime)\n",
    "    FILTER (?ot < \"2019-07-21T00:00:00\"^^xsd:dateTime)\n",
    "    }\"\"\")\n",
    "for row in q2:\n",
    "    print(row)"
   ]
  },
  {
   "cell_type": "code",
   "execution_count": 125,
   "metadata": {},
   "outputs": [
    {
     "name": "stdout",
     "output_type": "stream",
     "text": [
      "(rdflib.term.Literal('Latte', datatype=rdflib.term.URIRef('http://www.w3.org/2001/XMLSchema#string')), rdflib.term.Literal('9.8', datatype=rdflib.term.URIRef('http://www.w3.org/2001/XMLSchema#float')))\n",
      "(rdflib.term.Literal('Espresso', datatype=rdflib.term.URIRef('http://www.w3.org/2001/XMLSchema#string')), rdflib.term.Literal('8.5', datatype=rdflib.term.URIRef('http://www.w3.org/2001/XMLSchema#float')))\n",
      "(rdflib.term.Literal('Cappuccino', datatype=rdflib.term.URIRef('http://www.w3.org/2001/XMLSchema#string')), rdflib.term.Literal('7.2', datatype=rdflib.term.URIRef('http://www.w3.org/2001/XMLSchema#float')))\n"
     ]
    }
   ],
   "source": [
    "q3 = graph.query(\n",
    "    \"\"\"\n",
    "    PREFIX : <http://www.scarbucks.example.com.au/v2/coffee#>\n",
    "    PREFIX rdf: <http://www.w3.org/1999/02/22-rdf-syntax-ns#>\n",
    "    PREFIX owl: <http://www.w3.org/2002/07/owl#>\n",
    "    PREFIX rdfs: <http://www.w3.org/2000/01/rdf-schema#>\n",
    "    PREFIX xsd: <http://www.w3.org/2001/XMLSchema#>\n",
    "    SELECT ?ct ?cp WHERE { \n",
    "    ?c rdf:type :Coffee.\n",
    "    ?c :type ?ct.\n",
    "    ?c :price_at ?cp.\n",
    "    }\"\"\")\n",
    "for row in q3:\n",
    "    print(row)"
   ]
  },
  {
   "cell_type": "code",
   "execution_count": 126,
   "metadata": {},
   "outputs": [
    {
     "name": "stdout",
     "output_type": "stream",
     "text": [
      "(rdflib.term.URIRef('http://www.scarbucks.example.com.au/v2/coffee#black_widow'), rdflib.term.Literal('Natasha', datatype=rdflib.term.URIRef('http://www.w3.org/2001/XMLSchema#string')), rdflib.term.URIRef('http://www.scarbucks.example.com.au/v2/coffee#steve_roges'), rdflib.term.Literal('Steve Roges', datatype=rdflib.term.URIRef('http://www.w3.org/2001/XMLSchema#string')), rdflib.term.URIRef('http://www.scarbucks.example.com.au/v2/coffee#tony_stark'), rdflib.term.Literal('Tony Stark', datatype=rdflib.term.URIRef('http://www.w3.org/2001/XMLSchema#string')))\n"
     ]
    }
   ],
   "source": [
    "q4 = graph.query(\n",
    "    \"\"\"\n",
    "    PREFIX : <http://www.scarbucks.example.com.au/v2/coffee#>\n",
    "    PREFIX rdf: <http://www.w3.org/1999/02/22-rdf-syntax-ns#>\n",
    "    PREFIX owl: <http://www.w3.org/2002/07/owl#>\n",
    "    PREFIX rdfs: <http://www.w3.org/2000/01/rdf-schema#>\n",
    "    PREFIX xsd: <http://www.w3.org/2001/XMLSchema#>\n",
    "    SELECT ?ca ?cn ?ba ?bn ?ma ?mn WHERE { \n",
    "    ?ca rdf:type :Cashier.\n",
    "    ?ca :caname ?cn.\n",
    "    ?ba rdf:type :Barista.\n",
    "    ?ba :bname ?bn.\n",
    "    ?ma rdf:type :Manager.\n",
    "    ?ma :mname ?mn.\n",
    "    }\"\"\")\n",
    "for row in q4:\n",
    "    print(row)"
   ]
  },
  {
   "cell_type": "code",
   "execution_count": 127,
   "metadata": {},
   "outputs": [
    {
     "name": "stdout",
     "output_type": "stream",
     "text": [
      "(rdflib.term.URIRef('http://www.scarbucks.example.com.au/v2/coffee#Latte'), rdflib.term.Literal('2', datatype=rdflib.term.URIRef('http://www.w3.org/2001/XMLSchema#integer')))\n"
     ]
    }
   ],
   "source": [
    "q5 = graph.query(\n",
    "    \"\"\"\n",
    "    PREFIX : <http://www.scarbucks.example.com.au/v2/coffee#>\n",
    "    PREFIX rdf: <http://www.w3.org/1999/02/22-rdf-syntax-ns#>\n",
    "    PREFIX owl: <http://www.w3.org/2002/07/owl#>\n",
    "    PREFIX rdfs: <http://www.w3.org/2000/01/rdf-schema#>\n",
    "    PREFIX xsd: <http://www.w3.org/2001/XMLSchema#>\n",
    "    SELECT ?of (COUNT(*) AS ?usages) WHERE { \n",
    "        ?od rdf:type :Order.\n",
    "        ?cu rdf:type :Customer.\n",
    "        ?cu :cuname ?cn.\n",
    "        ?od :ordered_for ?of.\n",
    "        FILTER (?cn = \"Jim Hay\")\n",
    "    }\n",
    "    GROUP BY ?of\n",
    "    ORDER BY DESC(?usages)\n",
    "    LIMIT 1\n",
    "    \"\"\")\n",
    "for row in q5:\n",
    "    print(row)"
   ]
  },
  {
   "cell_type": "code",
   "execution_count": null,
   "metadata": {},
   "outputs": [],
   "source": []
  }
 ],
 "metadata": {
  "kernelspec": {
   "display_name": "Python 3",
   "language": "python",
   "name": "python3"
  },
  "language_info": {
   "codemirror_mode": {
    "name": "ipython",
    "version": 3
   },
   "file_extension": ".py",
   "mimetype": "text/x-python",
   "name": "python",
   "nbconvert_exporter": "python",
   "pygments_lexer": "ipython3",
   "version": "3.7.4"
  }
 },
 "nbformat": 4,
 "nbformat_minor": 2
}
