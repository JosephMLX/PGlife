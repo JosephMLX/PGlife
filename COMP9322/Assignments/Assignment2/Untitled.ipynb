{
 "cells": [
  {
   "cell_type": "code",
   "execution_count": 1,
   "metadata": {},
   "outputs": [],
   "source": [
    "import rdflib"
   ]
  },
  {
   "cell_type": "code",
   "execution_count": 2,
   "metadata": {},
   "outputs": [],
   "source": [
    "from rdflib import Namespace"
   ]
  },
  {
   "cell_type": "code",
   "execution_count": 3,
   "metadata": {},
   "outputs": [],
   "source": [
    "owlNS = Namespace(\"http://www.w3.org/2002/07/owl#\")\n",
    "owlClass = owlNS[\"Class\"]\n",
    "owlObjectProperty = owlNS[\"ObjectProperty\"]\n",
    "owlDatatypeProperty = owlNS[\"DatatypeProperty\"]\n",
    "rdfNS = Namespace(\"http://www.w3.org/1999/02/22-rdf-syntax-ns#\")\n",
    "rdfProperty = rdfNS[\"Property\"]\n",
    "rdfType = rdfNS[\"type\"]\n",
    "rdfsNS = Namespace(\"http://www.w3.org/2000/01/rdf-schema#\")\n",
    "rdfsSubClassOf = rdfsNS[\"subClassOf\"]\n",
    "rdfsDomain = rdfsNS[\"domain\"]\n",
    "rdfsRange = rdfsNS[\"range\"]\n",
    "xsdNS = Namespace(\"http://www.w3.org/2001/XMLSchema#\")\n",
    "xsdString = xsdNS[\"string\"]"
   ]
  },
  {
   "cell_type": "code",
   "execution_count": null,
   "metadata": {},
   "outputs": [],
   "source": [
    "coffeeNS = Namespace('http://www.semprog.com/coffee#')"
   ]
  }
 ],
 "metadata": {
  "kernelspec": {
   "display_name": "Python 3",
   "language": "python",
   "name": "python3"
  },
  "language_info": {
   "codemirror_mode": {
    "name": "ipython",
    "version": 3
   },
   "file_extension": ".py",
   "mimetype": "text/x-python",
   "name": "python",
   "nbconvert_exporter": "python",
   "pygments_lexer": "ipython3",
   "version": "3.7.3"
  }
 },
 "nbformat": 4,
 "nbformat_minor": 2
}
