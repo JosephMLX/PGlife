{
 "cells": [
  {
   "cell_type": "code",
   "execution_count": 1,
   "metadata": {},
   "outputs": [],
   "source": [
    "import rdflib"
   ]
  },
  {
   "cell_type": "code",
   "execution_count": 2,
   "metadata": {},
   "outputs": [],
   "source": [
    "from rdflib import Namespace"
   ]
  },
  {
   "cell_type": "code",
   "execution_count": 3,
   "metadata": {},
   "outputs": [],
   "source": [
    "owlNS = Namespace(\"http://www.w3.org/2002/07/owl#\")\n",
    "owlClass = owlNS[\"Class\"]\n",
    "owlObjectProperty = owlNS[\"ObjectProperty\"]\n",
    "owlDatatypeProperty = owlNS[\"DatatypeProperty\"]\n",
    "rdfNS = Namespace(\"http://www.w3.org/1999/02/22-rdf-syntax-ns#\")\n",
    "rdfProperty = rdfNS[\"Property\"]\n",
    "rdfType = rdfNS[\"type\"]\n",
    "rdfsNS = Namespace(\"http://www.w3.org/2000/01/rdf-schema#\")\n",
    "rdfsSubClassOf = rdfsNS[\"subClassOf\"]\n",
    "rdfsDomain = rdfsNS[\"domain\"]\n",
    "rdfsRange = rdfsNS[\"range\"]\n",
    "xsdNS = Namespace(\"http://www.w3.org/2001/XMLSchema#\")\n",
    "xsdString = xsdNS[\"string\"]"
   ]
  },
  {
   "cell_type": "code",
   "execution_count": 7,
   "metadata": {},
   "outputs": [],
   "source": [
    "filmNS = Namespace(\"http://www.semprog.com/film#\")"
   ]
  },
  {
   "cell_type": "code",
   "execution_count": 8,
   "metadata": {},
   "outputs": [],
   "source": [
    "objectClass = filmNS['Object']\n",
    "personClass = filmNS['Person']\n",
    "filmClass = filmNS['Film']\n",
    "performanceClass = filmNS['Performance']\n",
    "actorClass = filmNS['Actor']\n",
    "roleClass = filmNS['Role']\n",
    "directorClass = filmNS['Director']"
   ]
  },
  {
   "cell_type": "code",
   "execution_count": 9,
   "metadata": {},
   "outputs": [],
   "source": [
    "name = filmNS['name']\n",
    "starring = filmNS['starring']\n",
    "hasActor = filmNS['has_actor']\n",
    "hasRole = filmNS['has_role']\n",
    "directedBy = filmNS['directed_by']"
   ]
  },
  {
   "cell_type": "code",
   "execution_count": 10,
   "metadata": {},
   "outputs": [],
   "source": [
    "classTriples = [\n",
    "# class declarations:\n",
    "(filmNS['Object'], rdfType, owlClass),\n",
    "(filmNS['Person'], rdfType, owlClass),\n",
    "(filmNS['Film'], rdfType, owlClass),\n",
    "(filmNS['Actor'], rdfType, owlClass),\n",
    "(filmNS['Role'], rdfType, owlClass),\n",
    "(filmNS['Director'], rdfType, owlClass),\n",
    "(filmNS['Performance'], rdfType, owlClass)\n",
    "]"
   ]
  },
  {
   "cell_type": "code",
   "execution_count": 11,
   "metadata": {},
   "outputs": [],
   "source": [
    "classHeirarchyTriples = [\n",
    "# class heirarchy:\n",
    "(filmNS['Film'], rdfsSubClassOf, filmNS['Object']),\n",
    "(filmNS['Person'], rdfsSubClassOf, filmNS['Object']),\n",
    "(filmNS['Actor'], rdfsSubClassOf, filmNS['Person']),\n",
    "(filmNS['Role'], rdfsSubClassOf, filmNS['Object']),\n",
    "(filmNS['Director'], rdfsSubClassOf, filmNS['Person'])\n",
    "]"
   ]
  },
  {
   "cell_type": "code",
   "execution_count": 12,
   "metadata": {},
   "outputs": [],
   "source": [
    "propertyTriples = [\n",
    "# name property:\n",
    "(filmNS['name'], rdfType, owlDatatypeProperty),\n",
    "(filmNS['name'], rdfsDomain, filmNS['Object']),\n",
    "(filmNS['name'], rdfsRange, xsdString),\n",
    "# starring property:\n",
    "(filmNS['starring'], rdfType, owlObjectProperty),\n",
    "(filmNS['starring'], rdfsDomain, filmNS['Film']),\n",
    "(filmNS['starring'], rdfsRange, filmNS['Performance']),\n",
    "# hasActor property:\n",
    "(filmNS['hasActor'], rdfType, owlObjectProperty),\n",
    "(filmNS['hasActor'], rdfsDomain, filmNS['Performance']),\n",
    "(filmNS['hasActor'], rdfsRange, filmNS['Actor']),\n",
    "# hasRole property:\n",
    "(filmNS['hasRole'], rdfType, owlObjectProperty),\n",
    "(filmNS['hasRole'], rdfsDomain, filmNS['Performance']),\n",
    "(filmNS['hasRole'], rdfsRange, filmNS['Role']),\n",
    "# directedBy property:\n",
    "(filmNS['directedBy'], rdfType, owlObjectProperty),\n",
    "(filmNS['directedBy'], rdfsDomain, filmNS['Film']),\n",
    "(filmNS['directedBy'], rdfsRange, filmNS['Director'])\n",
    "]"
   ]
  },
  {
   "cell_type": "code",
   "execution_count": 13,
   "metadata": {},
   "outputs": [],
   "source": [
    "from rdflib import ConjunctiveGraph\n",
    "graph = ConjunctiveGraph()\n",
    "for triple in classTriples: graph.add(triple)\n",
    "for triple in classHeirarchyTriples: graph.add(triple)\n",
    "for triple in propertyTriples: graph.add(triple)"
   ]
  },
  {
   "cell_type": "code",
   "execution_count": 14,
   "metadata": {},
   "outputs": [
    {
     "data": {
      "text/plain": [
       "[rdflib.term.URIRef('http://www.semprog.com/film#Person'),\n",
       " rdflib.term.URIRef('http://www.semprog.com/film#Object'),\n",
       " rdflib.term.URIRef('http://www.semprog.com/film#Actor'),\n",
       " rdflib.term.URIRef('http://www.semprog.com/film#Role'),\n",
       " rdflib.term.URIRef('http://www.semprog.com/film#Film'),\n",
       " rdflib.term.URIRef('http://www.semprog.com/film#Performance'),\n",
       " rdflib.term.URIRef('http://www.semprog.com/film#Director')]"
      ]
     },
     "execution_count": 14,
     "metadata": {},
     "output_type": "execute_result"
    }
   ],
   "source": [
    "list(graph.subjects(rdfType, owlClass))"
   ]
  },
  {
   "cell_type": "code",
   "execution_count": 15,
   "metadata": {},
   "outputs": [
    {
     "data": {
      "text/plain": [
       "[rdflib.term.URIRef('http://www.semprog.com/film#hasRole'),\n",
       " rdflib.term.URIRef('http://www.semprog.com/film#starring'),\n",
       " rdflib.term.URIRef('http://www.semprog.com/film#hasActor'),\n",
       " rdflib.term.URIRef('http://www.semprog.com/film#directedBy')]"
      ]
     },
     "execution_count": 15,
     "metadata": {},
     "output_type": "execute_result"
    }
   ],
   "source": [
    "list(graph.subjects(rdfType, owlObjectProperty))"
   ]
  },
  {
   "cell_type": "code",
   "execution_count": 17,
   "metadata": {},
   "outputs": [
    {
     "ename": "IndentationError",
     "evalue": "expected an indented block (<ipython-input-17-039773d03ea8>, line 4)",
     "output_type": "error",
     "traceback": [
      "\u001b[0;36m  File \u001b[0;32m\"<ipython-input-17-039773d03ea8>\"\u001b[0;36m, line \u001b[0;32m4\u001b[0m\n\u001b[0;31m    if isSubClassOf(parentClass, superClass, graph):\u001b[0m\n\u001b[0m     ^\u001b[0m\n\u001b[0;31mIndentationError\u001b[0m\u001b[0;31m:\u001b[0m expected an indented block\n"
     ]
    }
   ],
   "source": [
    "def isSubClassOf(subClass, superClass, graph):\n",
    "    if subClass == superClass: return True\n",
    "    for parentClass in graph.objects(subClass, rdfsSubClassOf):\n",
    "    if isSubClassOf(parentClass, superClass, graph):\n",
    "        return True\n",
    "    else: return False"
   ]
  },
  {
   "cell_type": "code",
   "execution_count": null,
   "metadata": {},
   "outputs": [],
   "source": []
  }
 ],
 "metadata": {},
 "nbformat": 4,
 "nbformat_minor": 2
}
