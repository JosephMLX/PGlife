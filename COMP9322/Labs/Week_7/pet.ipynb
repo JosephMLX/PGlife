{
 "cells": [
  {
   "cell_type": "code",
   "execution_count": 1,
   "metadata": {},
   "outputs": [],
   "source": [
    "import rdflib"
   ]
  },
  {
   "cell_type": "code",
   "execution_count": 2,
   "metadata": {},
   "outputs": [],
   "source": [
    "from rdflib import Namespace"
   ]
  },
  {
   "cell_type": "code",
   "execution_count": 3,
   "metadata": {},
   "outputs": [],
   "source": [
    "owlNS = Namespace(\"http://www.w3.org/2002/07/owl#\")\n",
    "owlClass = owlNS[\"Class\"]\n",
    "owlObjectProperty = owlNS[\"ObjectProperty\"]\n",
    "owlDatatypeProperty = owlNS[\"DatatypeProperty\"]\n",
    "rdfNS = Namespace(\"http://www.w3.org/1999/02/22-rdf-syntax-ns#\")\n",
    "rdfProperty = rdfNS[\"Property\"]\n",
    "rdfType = rdfNS[\"type\"]\n",
    "rdfsNS = Namespace(\"http://www.w3.org/2000/01/rdf-schema#\")\n",
    "rdfsSubClassOf = rdfsNS[\"subClassOf\"]\n",
    "rdfsDomain = rdfsNS[\"domain\"]\n",
    "rdfsRange = rdfsNS[\"range\"]\n",
    "xsdNS = Namespace(\"http://www.w3.org/2001/XMLSchema#\")\n",
    "xsdString = xsdNS[\"string\"]"
   ]
  },
  {
   "cell_type": "code",
   "execution_count": 4,
   "metadata": {},
   "outputs": [],
   "source": [
    "petNS = Namespace('http://www.modrisco.github.io/pet#')"
   ]
  },
  {
   "cell_type": "code",
   "execution_count": 6,
   "metadata": {},
   "outputs": [],
   "source": [
    "objectClass = petNS['Object']\n",
    "petClass = petNS['Pet']\n",
    "tagClass = petNS['Tag']\n",
    "userClass = petNS['User']\n",
    "orderClass = petNS['Order']\n",
    "categotyClass = petNS['Categoty']"
   ]
  },
  {
   "cell_type": "code",
   "execution_count": 10,
   "metadata": {},
   "outputs": [],
   "source": [
    "name = petNS['name']\n",
    "# isA = petNS['is_a']\n",
    "categotyOfPet = petNS['categoty_of_pet']\n",
    "subClassOf = petNS['sub_class_of']"
   ]
  },
  {
   "cell_type": "code",
   "execution_count": 11,
   "metadata": {},
   "outputs": [],
   "source": [
    "classTriples = [\n",
    "# class declarations:\n",
    "(petNS['Object'], rdfType, owlClass),\n",
    "(petNS['Pet'], rdfType, owlClass),\n",
    "(petNS['Tag'], rdfType, owlClass),\n",
    "(petNS['User'], rdfType, owlClass),\n",
    "(petNS['Order'], rdfType, owlClass),\n",
    "(petNS['Categoty'], rdfType, owlClass)\n",
    "]"
   ]
  },
  {
   "cell_type": "code",
   "execution_count": 12,
   "metadata": {},
   "outputs": [],
   "source": [
    "classHeirarchyTriples = [\n",
    "# class heirarchy:\n",
    "(petNS['Category'], rdfsSubClassOf, petNS['Object']),\n",
    "(petNS['Order'], rdfsSubClassOf, petNS['Object']),\n",
    "(petNS['User'], rdfsSubClassOf, petNS['Object']),\n",
    "(petNS['Tag'], rdfsSubClassOf, petNS['Category']),\n",
    "(petNS['Pet'], rdfsSubClassOf, petNS['Object'])\n",
    "]"
   ]
  },
  {
   "cell_type": "code",
   "execution_count": 13,
   "metadata": {},
   "outputs": [],
   "source": [
    "propertyTriples = [\n",
    "# name property:\n",
    "(petNS['name'], rdfType, owlDatatypeProperty),\n",
    "(petNS['name'], rdfsDomain, petNS['Object']),\n",
    "(petNS['name'], rdfsRange, xsdString),\n",
    "# # isA property:\n",
    "# (petNS['is_a'], rdfType, owlObjectProperty),\n",
    "# (petNS['is_a'], rdfsDomain, petNS['Pet']),\n",
    "# (petNS['is_a'], rdfsRange, filmNS['Performance']),\n",
    "# categotyOfPet property:\n",
    "(petNS['categoty_of_pet'], rdfType, owlObjectProperty),\n",
    "(petNS['categoty_of_pet'], rdfsDomain, petNS['Pet']),\n",
    "(petNS['categoty_of_pet'], rdfsRange, petNS['Category']),\n",
    "# subClassOf property:\n",
    "(petNS['sub_class_of'], rdfType, owlObjectProperty),\n",
    "(petNS['sub_class_of'], rdfsDomain, petNS['Tag']),\n",
    "(petNS['sub_class_of'], rdfsRange, petNS['Category']),\n",
    "]"
   ]
  },
  {
   "cell_type": "code",
   "execution_count": 14,
   "metadata": {},
   "outputs": [],
   "source": [
    "from rdflib import ConjunctiveGraph\n",
    "graph = ConjunctiveGraph()"
   ]
  },
  {
   "cell_type": "code",
   "execution_count": 15,
   "metadata": {},
   "outputs": [],
   "source": [
    "for triple in classTriples:\n",
    "    graph.add(triple)\n",
    "for triple in classHeirarchyTriples:\n",
    "    graph.add(triple)\n",
    "for triple in propertyTriples:\n",
    "    graph.add(triple)"
   ]
  },
  {
   "cell_type": "code",
   "execution_count": 16,
   "metadata": {},
   "outputs": [
    {
     "data": {
      "text/plain": [
       "[rdflib.term.URIRef('http://www.modrisco.github.io/pet#Categoty'),\n",
       " rdflib.term.URIRef('http://www.modrisco.github.io/pet#Order'),\n",
       " rdflib.term.URIRef('http://www.modrisco.github.io/pet#Pet'),\n",
       " rdflib.term.URIRef('http://www.modrisco.github.io/pet#User'),\n",
       " rdflib.term.URIRef('http://www.modrisco.github.io/pet#Tag'),\n",
       " rdflib.term.URIRef('http://www.modrisco.github.io/pet#Object')]"
      ]
     },
     "execution_count": 16,
     "metadata": {},
     "output_type": "execute_result"
    }
   ],
   "source": [
    "list(graph.subjects(rdfType, owlClass))"
   ]
  },
  {
   "cell_type": "code",
   "execution_count": 17,
   "metadata": {},
   "outputs": [
    {
     "data": {
      "text/plain": [
       "[rdflib.term.URIRef('http://www.modrisco.github.io/pet#categoty_of_pet'),\n",
       " rdflib.term.URIRef('http://www.modrisco.github.io/pet#sub_class_of')]"
      ]
     },
     "execution_count": 17,
     "metadata": {},
     "output_type": "execute_result"
    }
   ],
   "source": [
    "list(graph.subjects(rdfType, owlObjectProperty))"
   ]
  },
  {
   "cell_type": "code",
   "execution_count": 18,
   "metadata": {},
   "outputs": [],
   "source": [
    "def isSubClassOf(subClass, superClass, graph):\n",
    "    if subClass == superClass: \n",
    "        return True\n",
    "    for parentClass in graph.objects(subClass, rdfsSubClassOf):\n",
    "        if isSubClassOf(parentClass, superClass, graph):\n",
    "            return True\n",
    "        else: \n",
    "            return False"
   ]
  },
  {
   "cell_type": "code",
   "execution_count": 19,
   "metadata": {},
   "outputs": [],
   "source": [
    "from rdflib import Literal\n",
    "petTriples = [\n",
    "# pet:\n",
    "(petNS['Brownie'], rdfType, petNS['Pet']),\n",
    "(petNS['Brownie'], petNS['name'],Literal(\"Brownie\", datatype=xsdString)),\n",
    "# (petNS['Brownie'], petNS['starring'], filmNS['bl_performance']),\n",
    "# (petNS['Brownie'], petNS['directedBy'], filmNS['ridley_scott']),\n",
    "# performance:\n",
    "# (filmNS['bl_performance'], rdfType, filmNS['Performance']),\n",
    "# (filmNS['bl_performance'], filmNS['hasActor'], filmNS['harrison_ford']),\n",
    "# (filmNS['bl_performance'], filmNS['hasRole'], filmNS['rick_deckard']),\n",
    "# category:\n",
    "# (filmNS['harrison_ford'], rdfType, filmNS['Actor']),\n",
    "# (filmNS['harrison_ford'], filmNS['name'],Literal(\"Harrison Ford\", datatype=xsdString)),\n",
    "# tag:\n",
    "(petNS['Apartment_Friendly'], rdfType, petNS['Tag']),\n",
    "(petNS['Apartment_Friendly'], petNS['sub_class_of'], petNS['Category']),\n",
    "]\n",
    "for triple in petTriples: \n",
    "    graph.add(triple)"
   ]
  },
  {
   "cell_type": "code",
   "execution_count": 20,
   "metadata": {},
   "outputs": [],
   "source": [
    "def findInstances(queryClass, graph, instances=None):\n",
    "    if instances is None: \n",
    "        instances = set()\n",
    "    for instance in graph.subjects(rdfType, queryClass): \n",
    "        instances.add(instance)\n",
    "    for subClass in graph.subjects(rdfsSubClassOf, queryClass):\n",
    "        findInstances(subClass, graph, instances)\n",
    "    return instances"
   ]
  },
  {
   "cell_type": "code",
   "execution_count": 22,
   "metadata": {},
   "outputs": [
    {
     "data": {
      "text/plain": [
       "{rdflib.term.URIRef('http://www.modrisco.github.io/pet#Brownie')}"
      ]
     },
     "execution_count": 22,
     "metadata": {},
     "output_type": "execute_result"
    }
   ],
   "source": [
    "findInstances(petClass, graph)"
   ]
  },
  {
   "cell_type": "code",
   "execution_count": 23,
   "metadata": {},
   "outputs": [
    {
     "data": {
      "text/plain": [
       "{rdflib.term.URIRef('http://www.modrisco.github.io/pet#Apartment_Friendly')}"
      ]
     },
     "execution_count": 23,
     "metadata": {},
     "output_type": "execute_result"
    }
   ],
   "source": [
    "findInstances(tagClass, graph)"
   ]
  },
  {
   "cell_type": "code",
   "execution_count": 24,
   "metadata": {},
   "outputs": [],
   "source": [
    "graph.serialize(destination=\"graph.ttl\", format=\"turtle\")"
   ]
  },
  {
   "cell_type": "code",
   "execution_count": null,
   "metadata": {},
   "outputs": [],
   "source": []
  }
 ],
 "metadata": {
  "kernelspec": {
   "display_name": "Python 3",
   "language": "python",
   "name": "python3"
  },
  "language_info": {
   "codemirror_mode": {
    "name": "ipython",
    "version": 3
   },
   "file_extension": ".py",
   "mimetype": "text/x-python",
   "name": "python",
   "nbconvert_exporter": "python",
   "pygments_lexer": "ipython3",
   "version": "3.7.3"
  }
 },
 "nbformat": 4,
 "nbformat_minor": 2
}
